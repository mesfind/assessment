{
 "cells": [
  {
   "cell_type": "code",
   "execution_count": null,
   "metadata": {},
   "outputs": [],
   "source": [
    "## This code toggles all code cells displaying on or off, so we can see output and markdown cells only.\n",
    "## All code cells display can be toggled on/off.\n",
    "\n",
    "from IPython.display import HTML\n",
    "\n",
    "HTML('''<script>\n",
    "code_show=true; \n",
    "function code_toggle() {\n",
    " if (code_show){\n",
    " $('div.input').hide();\n",
    " } else {\n",
    " $('div.input').show();\n",
    " }\n",
    " code_show = !code_show\n",
    "} \n",
    "$( document ).ready(code_toggle);\n",
    "</script>\n",
    "The raw code for this IPython notebook is hidden for easier reading.\n",
    "To toggle on/off the raw code, click <a href=\"javascript:code_toggle()\">here</a>.''')"
   ]
  },
  {
   "cell_type": "code",
   "execution_count": null,
   "metadata": {},
   "outputs": [],
   "source": [
    "## Import all the things\n",
    "\n",
    "import matplotlib.pyplot as plt\n",
    "import numpy as np\n",
    "import pandas as pd\n",
    "import pycountry\n",
    "\n",
    "%matplotlib inline "
   ]
  },
  {
   "cell_type": "markdown",
   "metadata": {},
   "source": [
    "# The Carpentries: Programmatic Assessment Report\n",
    "## 2017 Year End and 2018 Q1\n",
    "#### Authors: Maneesha Sane, Erin Becker"
   ]
  },
  {
   "cell_type": "markdown",
   "metadata": {},
   "source": [
    "## Part 1: Workshops over time"
   ]
  },
  {
   "cell_type": "markdown",
   "metadata": {},
   "source": [
    "### Workshops by Carpentry by Year\n",
    "\n",
    "We began systematically recording data for our workshops in 2012. We can use this data to investigate how have The Carpentries have grown over the years in terms of number of workshops per year and how Data Carpentry has grown in comparison with Software Carpentry. For these analyses, we will consider only Software Carpentry and Data Carpentry workshops held between January 1st, 2012 and March 31st, 2018. Instructor Training events are analyzed in a later portion of this report."
   ]
  },
  {
   "cell_type": "markdown",
   "metadata": {},
   "source": [
    "For each of our workshops, we collected the following data:\n",
    "\n",
    "| variable | definition |\n",
    "| -------- | ----------- | \n",
    "| slug | Unique identifier for each workshop. Takes the form `YYYY-MM-DD-sitename`. |\n",
    "| start | Start date of the workshop. Takes the form `YYYY-MM-DD`. |\n",
    "| attendance | Number of learners at the workshop. | \n",
    "| host_name | Institution that hosted the workshop. | \n",
    "| country | The two-letter country code for the country in which the workshop was held. |\n",
    "| workshop_type | Whether this is a Software Carpentry (SWC) or Data Carpentry (DC) workshop. | "
   ]
  },
  {
   "cell_type": "code",
   "execution_count": null,
   "metadata": {
    "scrolled": true
   },
   "outputs": [],
   "source": [
    "# Load csv into df\n",
    "workshops = pd.read_csv(\"data_files/workshops.csv\")\n",
    "\n",
    "\n",
    "# Translate country codes to country names\n",
    "def get_country_name(alpha_code):\n",
    "    try:\n",
    "        return pycountry.countries.get(alpha_2=alpha_code).name\n",
    "    except KeyError:\n",
    "        return \"online\"\n",
    "\n",
    "workshops['country'] = workshops['country'].apply(get_country_name)\n",
    "\n",
    "\n",
    "# Clean up the tag names\n",
    "workshops.loc[workshops['tag_name'].str.contains(\"SWC\"), \"workshop_type\"] = \"SWC\"\n",
    "workshops.loc[workshops['tag_name'].str.contains(\"DC\"), \"workshop_type\"] = \"DC\"\n",
    "workshops.loc[workshops['tag_name'].str.contains(\"LC\"), \"workshop_type\"] = \"LC\"\n",
    "workshops.loc[workshops['tag_name'].str.contains(\"TTT\"), \"workshop_type\"] = \"TTT\"\n",
    "\n",
    "workshops = workshops.drop('tag_name', axis=1)\n",
    "\n",
    "# Clean up attendance value - this is inconsistently stored as NaN or 0\n",
    "# All zero values should be NaN\n",
    "workshops['attendance'] =  workshops['attendance'].replace(0.0, np.nan)\n",
    "\n",
    "# Remove online events like maintainer onboarding \n",
    "workshops = workshops.drop(workshops[workshops.country == \"W3\"].index)\n",
    "\n",
    "# Date data type\n",
    "workshops['start'] = pd.to_datetime(workshops['start'])\n",
    "\n",
    "# Remove instructor training events; these will be analyzed separately.\n",
    "\n",
    "# Limit to non TTT workshops\n",
    "workshops_nonTTT = workshops[workshops['workshop_type'] != \"TTT\"]\n",
    "workshops;\n",
    "\n",
    "# Note: to preview the data table, remove the semi-colon (;) from the end of the line above"
   ]
  },
  {
   "cell_type": "markdown",
   "metadata": {},
   "source": [
    "#### Table 1. The Carpentries workshops by year."
   ]
  },
  {
   "cell_type": "code",
   "execution_count": null,
   "metadata": {},
   "outputs": [],
   "source": [
    "# All workshops 2012 through 2017\n",
    "\n",
    "workshops_by_carpentry_year_through_2017 = workshops_nonTTT[workshops_nonTTT['start'].dt.year<=2017]\n",
    "workshops_by_carpentry_year_through_2017 = workshops_by_carpentry_year_through_2017.groupby([workshops_by_carpentry_year_through_2017['start'].dt.year, 'workshop_type'])['slug'].count().unstack()\n",
    "workshops_by_carpentry_year_through_2017['total'] = workshops_by_carpentry_year_through_2017.sum(axis=1)\n",
    "\n",
    "\n",
    "# All workshops in 2017 full year and 2017 Q1\n",
    "workshops_by_carpentry_year_2017 = workshops_nonTTT[workshops_nonTTT['start'].dt.year == 2017]\n",
    "workshops_by_carpentry_year_2017Q1 = workshops_by_carpentry_year_2017[workshops_by_carpentry_year_2017['start'].dt.month <= 3]                                              \n",
    "workshops_by_carpentry_year_2017Q1 = workshops_by_carpentry_year_2017Q1.groupby([workshops_by_carpentry_year_2017Q1['start'].dt.year, 'workshop_type'])['slug'].count().unstack()\n",
    "workshops_by_carpentry_year_2017 = workshops_by_carpentry_year_2017.groupby([workshops_by_carpentry_year_2017['start'].dt.year, 'workshop_type'])['slug'].count().unstack()\n",
    "\n",
    "# All workshops in 2018 Q1\n",
    "workshops_by_carpentry_year_2018Q1 = workshops_nonTTT[workshops_nonTTT['start'].dt.year == 2018]\n",
    "workshops_by_carpentry_year_2018Q1 = workshops_by_carpentry_year_2018Q1.groupby([workshops_by_carpentry_year_2018Q1['start'].dt.year, 'workshop_type'])['slug'].count().unstack()\n",
    "\n",
    "# Proportion of 2017 workshops that took place in 2017 Q1\n",
    "proportion = workshops_by_carpentry_year_2017Q1/workshops_by_carpentry_year_2017\n",
    "proportion = workshops_by_carpentry_year_2017Q1/workshops_by_carpentry_year_2017\n",
    "proportion = proportion.rename(index={2017:2018})\n",
    "\n",
    "# Use proportion to calculate 2018 projections\n",
    "workshops_by_carpentry_year_2018Q1_projected = workshops_by_carpentry_year_2018Q1 / proportion\n",
    "workshops_by_carpentry_year_2018Q1_projected = workshops_by_carpentry_year_2018Q1_projected.astype(int)\n",
    "workshops_by_carpentry_year_2018Q1_projected['total'] = workshops_by_carpentry_year_2018Q1_projected.sum(axis=1)\n",
    "\n",
    "\n",
    "# Combine real data through 2017 and projected 2018 data in to one dataframe\n",
    "workshops_by_carpentry_year_with_projections = pd.concat([workshops_by_carpentry_year_through_2017, workshops_by_carpentry_year_2018Q1_projected], axis=0)\n",
    "\n",
    "# Fill na with zeros and make floats in to ints\n",
    "workshops_by_carpentry_year_with_projections = workshops_by_carpentry_year_with_projections.fillna(0)\n",
    "workshops_by_carpentry_year_with_projections = workshops_by_carpentry_year_with_projections.astype(int)\n",
    "\n",
    "# Rename 2018 to projected\n",
    "workshops_by_carpentry_year_with_projections.rename(index={2018: '2018 projected'}, inplace=True)\n",
    "\n",
    "\n",
    "workshops_by_carpentry_year_with_projections\n"
   ]
  },
  {
   "cell_type": "markdown",
   "metadata": {},
   "source": [
    "#### Figure 1. The Carpentries workshops by year."
   ]
  },
  {
   "cell_type": "code",
   "execution_count": null,
   "metadata": {},
   "outputs": [],
   "source": [
    "fig = plt.figure(figsize=(12, 6)) # Create matplotlib figure\n",
    "\n",
    "ax = fig.add_subplot(111) # Create matplotlib axes\n",
    "width = .5\n",
    "title = \"Carpentries workshops count by year\"\n",
    "workshops_by_carpentry_year_with_projections.plot(y = [\"DC\", \"SWC\"], kind='bar', ax=ax, width=width, position=1, title=title)\n",
    "\n",
    "ax.grid(True)\n",
    "\n",
    "plt.show()"
   ]
  },
  {
   "cell_type": "markdown",
   "metadata": {},
   "source": [
    "The number of Software Carpentry and Data Carpentry workshops appear to have remained roughly steady for the past several years, after a sharp jump from 2014 to 2015. The year 2015 was the first year in which The Carpentries had staff and a dedicated database to track workshop data, so some of this growth may instead reflect a growth in internal systems.\n",
    "\n",
    "The data shown here may not account for unreported self-organized workshops. Although The Carpentries attempts to collect data on all workshops run under \"The Carpentries\" brand, sometimes institutions may run a workshop without reporting it back to The Carpentries staff. Thus, if there has been a shift from more centrally-organized to more self-organized workshops, this may cause an underestimate of our workshop growth. We are working to improve data collection to have more accurate reflections of our scope of work."
   ]
  },
  {
   "cell_type": "markdown",
   "metadata": {},
   "source": [
    "### Workshops by Carpentry by Year and Country\n",
    "\n",
    "The table and chart below show a count of the number of Carpentry workshops (SWC or DC) that took place in each country each year from 2012 through 2017. This data can help us to see geographic trends in our community. In particular, in which geographic regions The Carpentry community is growing."
   ]
  },
  {
   "cell_type": "markdown",
   "metadata": {},
   "source": [
    "#### Table 2. The Carpentries workshops by year and country."
   ]
  },
  {
   "cell_type": "code",
   "execution_count": null,
   "metadata": {
    "scrolled": true
   },
   "outputs": [],
   "source": [
    "workshops_by_country_year = workshops_nonTTT.groupby(['country', workshops_nonTTT['start'].dt.year])['slug'].count().unstack()\n",
    "workshops_by_country_year = workshops_by_country_year.fillna(0)\n",
    "workshops_by_country_year.rename(columns={2018: '2018Q1'}, inplace=True)\n",
    "workshops_by_country_year['total'] = workshops_by_country_year.sum(axis=1)\n",
    "workshops_by_country_year = workshops_by_country_year.astype(int)\n",
    "workshops_by_country_year\n"
   ]
  },
  {
   "cell_type": "markdown",
   "metadata": {},
   "source": [
    "#### Figure 2. The Carpentries workshops by year and country."
   ]
  },
  {
   "cell_type": "code",
   "execution_count": null,
   "metadata": {
    "scrolled": false
   },
   "outputs": [],
   "source": [
    "workshops_by_country_year_many = workshops_by_country_year[workshops_by_country_year.total >= 10]\n",
    "\n",
    "fig = plt.figure(figsize=(12, 6)) # Create matplotlib figure\n",
    "\n",
    "ax = fig.add_subplot(111) # Create matplotlib axes\n",
    "\n",
    "title = \"Carpentries workshops by country by year\"\n",
    "workshops_by_country_year_many.plot(y = list(workshops_by_country_year_many)[:-1], kind='bar', ax=ax, position=1, title=title)\n",
    "\n",
    "ax.grid(True)\n",
    "\n",
    "plt.show()"
   ]
  },
  {
   "cell_type": "markdown",
   "metadata": {},
   "source": [
    "Note that only countries that reported at least ten workshops between 2012 and Q1 2018 are shown in Figure 2. \n",
    "\n",
    "## To be added: projections for full year 2018, replacing 2018Q1 data"
   ]
  },
  {
   "cell_type": "markdown",
   "metadata": {},
   "source": [
    "#### Table 3: Number of countries that held workshops by year\n",
    "\n",
    "## To be added: table with number of countries that ran a workshop each year."
   ]
  },
  {
   "cell_type": "code",
   "execution_count": null,
   "metadata": {},
   "outputs": [],
   "source": [
    "# # Get all workshops for 2017 Q1\n",
    "workshops_2017Q1 = workshops_nonTTT[(workshops_nonTTT['start'].dt.year == 2017) & (workshops_nonTTT['start'].dt.month <= 3)]\n",
    "\n",
    "# # Get all workshops for 2018 Q1\n",
    "workshops_2018Q1 = workshops_nonTTT[(workshops_nonTTT['start'].dt.year == 2018) & (workshops_nonTTT['start'].dt.month <= 3)]\n",
    "\n",
    "# 2017 Q1 workshops by country\n",
    "workshops_by_country_year_2017Q1 = workshops_2017Q1.groupby(['country', workshops_nonTTT['start'].dt.year])['slug'].count().unstack()\n",
    "workshops_by_country_year_2017Q1.rename(columns={2017:'2017Q1'}, inplace=True)\n",
    "\n",
    "# 2018 Q1 workshops by country\n",
    "workshops_by_country_year_2018Q1 = workshops_2018Q1.groupby(['country', workshops_nonTTT['start'].dt.year])['slug'].count().unstack()\n",
    "workshops_by_country_year_2018Q1.rename(columns={2018:'2018Q1'}, inplace=True)\n",
    "\n",
    "# Concatenated table, 2017 Q1 and 2018 Q1 workshops by country\n",
    "workshops_by_country_year_1718Q1 = pd.concat([workshops_by_country_year_2017Q1, workshops_by_country_year_2018Q1], axis=1)\n",
    "\n",
    "# Don't display table\n",
    "# workshops_by_country_year_1718Q1\n",
    "# Values should be ints not floats"
   ]
  },
  {
   "cell_type": "markdown",
   "metadata": {},
   "source": [
    "To held us understand our geographical growth, we can ask a series of follow-up questions, including: \n",
    "\n",
    "### When did each country have its first workshop?\n",
    "\n",
    "Data goes back to 2012; some countries may have been holding Carpentries workshops before this time.\n",
    "\n",
    "# To be fixed: Order table by year"
   ]
  },
  {
   "cell_type": "code",
   "execution_count": null,
   "metadata": {
    "scrolled": true
   },
   "outputs": [],
   "source": [
    "w2 = workshops_by_country_year.copy()\n",
    "\n",
    "# See https://stackoverflow.com/questions/31828240/first-non-null-value-per-row-from-a-list-of-pandas-columns\n",
    "# and\n",
    "# https://stackoverflow.com/questions/38467749/find-first-non-zero-value-in-each-row-of-pandas-dataframe\n",
    "\n",
    "# Fill zero values with Nan to make them non valid values\n",
    "res = w2[w2 != 0.0]\n",
    "\n",
    "first_workshop = res.apply(pd.Series.first_valid_index, axis=1)\n",
    "first_workshop = first_workshop.to_frame('year')\n",
    "first_workshop\n",
    "\n",
    "\n",
    "\n"
   ]
  },
  {
   "cell_type": "markdown",
   "metadata": {},
   "source": [
    "### How many countries had their first workshop each year?\n",
    "This table should be sorted by year."
   ]
  },
  {
   "cell_type": "code",
   "execution_count": null,
   "metadata": {},
   "outputs": [],
   "source": [
    "pd.value_counts(first_workshop['year'].values, sort=False).to_frame()"
   ]
  },
  {
   "cell_type": "markdown",
   "metadata": {},
   "source": [
    "### Which countries had their first workshop in 2017?\n",
    "\n",
    "Five countries, all in Africa, had their first workshop in 2017. This is representative of the significant growth we've seen in this part of the world."
   ]
  },
  {
   "cell_type": "code",
   "execution_count": null,
   "metadata": {},
   "outputs": [],
   "source": [
    "first_workshop_2017 = first_workshop[first_workshop.year == 2017]\n",
    "first_workshop_2017"
   ]
  },
  {
   "cell_type": "markdown",
   "metadata": {},
   "source": [
    "## Attendance at workshops"
   ]
  },
  {
   "cell_type": "markdown",
   "metadata": {},
   "source": [
    "### Workshops missing attendance\n",
    "\n",
    "This is a full list of all workshops that did not report attendance back to the Carpentries.  Reasons for this may vary and demonstrate a need for Carpentries staff, workshop hosts, and instructors to better collect and record this data.\n",
    "\n",
    "121 of 1323 (about 9%) workshops were missing attendance."
   ]
  },
  {
   "cell_type": "code",
   "execution_count": null,
   "metadata": {
    "scrolled": true
   },
   "outputs": [],
   "source": [
    "missing_attendance = workshops_nonTTT[pd.isnull(workshops['attendance'])]\n",
    "missing_attendance"
   ]
  },
  {
   "cell_type": "markdown",
   "metadata": {},
   "source": [
    "### Scatter plot showing frequency of attendance rates\n",
    "\n",
    "Each dot represents the total attendance for one workshop.  This will show the range of our workshop sizes, as well as whether our workshops are generally growing or shriking in size.\n"
   ]
  },
  {
   "cell_type": "code",
   "execution_count": null,
   "metadata": {
    "scrolled": true
   },
   "outputs": [],
   "source": [
    "attendance = workshops_nonTTT[['start', 'attendance']]   #df['date'].dt.year\n",
    "attendance['year'] = attendance['start'].dt.year\n",
    "title = \"Frequency of attendance rates by year\"\n",
    "attendance.plot.scatter('year', 'attendance', title=title)"
   ]
  },
  {
   "cell_type": "markdown",
   "metadata": {},
   "source": [
    "### Total attendance by year: Table view\n",
    "\n",
    "This table shows the total number of learners at Carpentries workshops each year.  \n",
    "Knowing that in 2017, 23.4% of workshops took place in Q1, we would expect to see 7414 learners in 2018, keeping us roughly steady for the past few years."
   ]
  },
  {
   "cell_type": "code",
   "execution_count": null,
   "metadata": {
    "scrolled": true
   },
   "outputs": [],
   "source": [
    "total_attendance_by_year = attendance.groupby('year')['attendance'].sum().to_frame()\n",
    "total_attendance_by_year\n"
   ]
  },
  {
   "cell_type": "markdown",
   "metadata": {},
   "source": [
    "### Total attendance by year: Chart view"
   ]
  },
  {
   "cell_type": "code",
   "execution_count": null,
   "metadata": {},
   "outputs": [],
   "source": [
    "total_attendance_by_year.plot.bar(title=\"Total Attendance by Year\")"
   ]
  },
  {
   "cell_type": "markdown",
   "metadata": {},
   "source": [
    "### Binned attendance by year\n",
    "\n",
    "This table shows by year, how many workshops had 1-10 learners, 11-20 learners, and so on.  "
   ]
  },
  {
   "cell_type": "code",
   "execution_count": null,
   "metadata": {
    "scrolled": true
   },
   "outputs": [],
   "source": [
    "bins = pd.cut(attendance['attendance'], [1, 10, 20, 30, 40, 50, 60, 70, 80, 90, 100, np.inf])\n",
    "attendance.groupby(bins)['attendance'].agg(['count'])\n",
    "\n",
    "binned_attendance_by_year = attendance.groupby([ bins, 'year'])['attendance'].agg(['count'])\n",
    "\n",
    "binned_attendance_by_year =  binned_attendance_by_year.unstack()\n",
    "binned_attendance_by_year['total'] = binned_attendance_by_year.sum(axis=1)\n",
    "binned_attendance_by_year = binned_attendance_by_year.rename(index=str, columns={2018:\"2018Q1\"})\n",
    "\n",
    "binned_attendance_by_year\n"
   ]
  },
  {
   "cell_type": "markdown",
   "metadata": {},
   "source": [
    "## Instructor Training\n",
    "\n",
    "This tables lists all instructor training events the Carpentries has held since 2012. The \"count_badged\" column is a total of all individuals from that event with at least one badge.  We are not distinguishing between Software Carpentry and Data Carpentry badges."
   ]
  },
  {
   "cell_type": "code",
   "execution_count": null,
   "metadata": {
    "scrolled": true
   },
   "outputs": [],
   "source": [
    "badges_by_training_event = pd.read_csv(\"data_files/badges_by_training_event.csv\")\n",
    "\n",
    "badges_by_training_event['pct_completion'] = badges_by_training_event['count_badged'] / badges_by_training_event['attendance'] * 100\n",
    "badges_by_training_event = badges_by_training_event.round({'pct_completion':1})\n",
    "badges_by_training_event['start'] = pd.to_datetime(badges_by_training_event['start'])\n",
    "\n",
    "badges_by_training_event"
   ]
  },
  {
   "cell_type": "markdown",
   "metadata": {},
   "source": [
    "### Number of instructor training events by country\n",
    "\n",
    "This table shows how many training events took place in each country.  Inperson events are noted as taking place in a specific country. All online events are noted as online, even if the trainees came entirely from one country. "
   ]
  },
  {
   "cell_type": "code",
   "execution_count": null,
   "metadata": {
    "scrolled": true
   },
   "outputs": [],
   "source": [
    "trainigs_by_country = badges_by_training_event.groupby([badges_by_training_event['start'].dt.year, 'country'])['slug'].count().unstack()\n",
    "trainigs_by_country['total'] = trainigs_by_country.sum(axis=1)\n",
    "trainigs_by_country.index.values\n",
    "trainigs_by_country = trainigs_by_country.rename(index = {2018:'2018Q1'})\n",
    "trainigs_by_country"
   ]
  },
  {
   "cell_type": "markdown",
   "metadata": {},
   "source": [
    "### Binned completion rates for instructor training events by year\n",
    "\n",
    "This shows the count of events by completion rates.  For example, six events in 2016 had a completion rate under 25%.  The counts are binned by quartiles, separating out events with 100% completion rates (two events total)."
   ]
  },
  {
   "cell_type": "code",
   "execution_count": null,
   "metadata": {
    "scrolled": true
   },
   "outputs": [],
   "source": [
    "bins = pd.cut(badges_by_training_event['pct_completion'], [0, 25, 50, 75, 99, 100])\n",
    "binned_badges_by_year = badges_by_training_event.groupby([ bins, badges_by_training_event['start'].dt.year])['pct_completion'].agg(['count'])\n",
    "\n",
    "binned_badges_by_year =  binned_badges_by_year.unstack()\n",
    "binned_badges_by_year['total'] = binned_badges_by_year.sum(axis=1)\n",
    "\n",
    "binned_badges_by_year\n"
   ]
  },
  {
   "cell_type": "markdown",
   "metadata": {},
   "source": [
    "### Attendance and number badged by year\n",
    "\n",
    "#### Total attendance by year\n",
    "\n",
    "This table shows the total number of trainees at instructor training events each year by country."
   ]
  },
  {
   "cell_type": "code",
   "execution_count": null,
   "metadata": {},
   "outputs": [],
   "source": [
    "attendance_by_year = badges_by_training_event.groupby([badges_by_training_event['start'].dt.year, 'country'])['attendance'].sum().unstack()\n",
    "attendance_by_year\n",
    "\n",
    "# trainigs_by_country = badges_by_training_event.groupby([badges_by_training_event['start'].dt.year, 'country'])['slug'].count().unstack()\n"
   ]
  },
  {
   "cell_type": "markdown",
   "metadata": {},
   "source": [
    "#### Total badged by year\n",
    "\n",
    "This table shows the total number of trainees who were awarded badges at instructor training events each year by country."
   ]
  },
  {
   "cell_type": "code",
   "execution_count": null,
   "metadata": {},
   "outputs": [],
   "source": [
    "badges_by_year = badges_by_training_event.groupby([badges_by_training_event['start'].dt.year, 'country'])['count_badged'].sum().unstack()\n",
    "badges_by_year\n"
   ]
  },
  {
   "cell_type": "markdown",
   "metadata": {},
   "source": [
    "#### Percent of trainees badged per year\n",
    "This is calculated from the above two tables. Note the country data shows the country the event was held in, not the country the trainee is based in.  The year is the year the event was held, not the year the badge was issued."
   ]
  },
  {
   "cell_type": "code",
   "execution_count": null,
   "metadata": {},
   "outputs": [],
   "source": [
    "percent_badged_by_year = badges_by_year/attendance_by_year*100\n",
    "percent_badged_by_year = percent_badged_by_year.round(1)\n",
    "percent_badged_by_year"
   ]
  },
  {
   "cell_type": "markdown",
   "metadata": {},
   "source": [
    "### Comparison:  Inperson vs Online Training Events\n",
    "\n",
    "The table and char below show the number of training events we have held each year, separated by online and inperson events.  \n",
    "\n",
    "#### Number of events per year"
   ]
  },
  {
   "cell_type": "code",
   "execution_count": null,
   "metadata": {
    "scrolled": false
   },
   "outputs": [],
   "source": [
    "countries = list(trainigs_by_country)\n",
    "countries.remove('W3')\n",
    "countries.remove('total')\n",
    "inperson_trainings = trainigs_by_country[countries].sum(axis = 1).to_frame()\n",
    "\n",
    "online_trainings = trainigs_by_country[['W3']]\n",
    "\n",
    "trainings_online_inperson = pd.concat([inperson_trainings, online_trainings], axis=1)\n",
    "\n",
    "trainings_online_inperson.rename(columns = {0:'in-person', 'W3':'online'}, inplace=True)\n",
    "\n",
    "trainings_online_inperson\n"
   ]
  },
  {
   "cell_type": "code",
   "execution_count": null,
   "metadata": {
    "scrolled": true
   },
   "outputs": [],
   "source": [
    "title = \"Online and In-person training events by year\"\n",
    "trainings_online_inperson[['online','in-person']].plot(kind='bar', stacked=True, title=title)"
   ]
  },
  {
   "cell_type": "code",
   "execution_count": null,
   "metadata": {},
   "outputs": [],
   "source": []
  }
 ],
 "metadata": {
  "anaconda-cloud": {},
  "kernelspec": {
   "display_name": "Python 3",
   "language": "python",
   "name": "python3"
  },
  "language_info": {
   "codemirror_mode": {
    "name": "ipython",
    "version": 3
   },
   "file_extension": ".py",
   "mimetype": "text/x-python",
   "name": "python",
   "nbconvert_exporter": "python",
   "pygments_lexer": "ipython3",
   "version": "3.5.2"
  }
 },
 "nbformat": 4,
 "nbformat_minor": 2
}
