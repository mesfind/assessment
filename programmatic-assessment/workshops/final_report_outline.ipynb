{
 "cells": [
  {
   "cell_type": "code",
   "execution_count": 1,
   "metadata": {},
   "outputs": [],
   "source": [
    "## Import all the things\n",
    "\n",
    "import matplotlib.pyplot as plt\n",
    "import numpy as np\n",
    "import pandas as pd\n",
    "import pycountry\n",
    "\n",
    "%matplotlib inline "
   ]
  },
  {
   "cell_type": "markdown",
   "metadata": {},
   "source": [
    "# The Carpentries: Programmatic Assessment Report\n",
    "## January 1, 2012 through March 31, 2018\n",
    "\n",
    "#### Authors: Maneesha Sane, Erin Becker\n",
    "\n",
    "We began systematically recording data for our workshops in 2012. We used this data to investigate how have The Carpentries have grown over the years including number and geographic reach of our workshops, and learners at these workshops. We also look at our Instructor Training program, including number and geographic reach of instructor training events, number of trainees and their completion rates, and onboarding of new Instructor Trainers.  \n",
    "\n",
    "Data are collected by a team of Workshop Administrators.  In Africa, Australia, Canada, New Zealand, and the United Kingdom, Workshop Adminstrators are affiliated with our member institutions and provide in-kind staff time.  A full-time Carpentries staff member is the Workshop Administrator for the rest the world."
   ]
  },
  {
   "cell_type": "markdown",
   "metadata": {},
   "source": [
    "## Part 1: Workshops\n",
    "\n",
    "### The Carpentries\n",
    "* All workshops table (~1300 rows) -- refer people to gh repo for raw data \n",
    "* Narrative about workshops \n",
    "    * General information about Carpentries workshops\n",
    "    * Description of type of data collected\n",
    "    \n",
    "* Figure (# ): Workshops by Carpentry by Year\n",
    "    * Caption describing figure: The Carpentries workshops by year.  Bar chart showing Carpentries each year.  Data Carpentry (DC) and Software Carpentry (SWC)\n",
    "    * Also note in caption source table is in appendix; note how 2018 projection was calculated\n",
    "    \n",
    "### Geographic reach \n",
    "* Narrative about how Carpentries began in predominantly white, English speaking countries, expanded to other European countries, expanded to Africa, Latin America\n",
    "* Big table of all countries goes to appendix.  Note why this does not include 2018 projections - most countries numbers are too small\n",
    "\n",
    "* Figure (#): Countries hosting 10 or more workshops\n",
    "    * Caption describing figure (as above - define SWC and DC, note source table in appendix, note how 2018 projection was calcuated).  Make sure table includes total.\n",
    "* Narrative - how many unique countries we held workshops in each year. Table in appendix with list of countries each year.\n",
    "* Table (#): Number of countries holding first workshop each year, maybe also **which** countries held their first workshop each year. Maybe as a map?\n",
    "\n",
    "\n",
    "### Workshop Attendance (rename?)\n",
    "\n",
    "* Intro narrative: In addition to looking at how many workshops we’ve run we look at how many people we’ve impacted.\n",
    "* Refer to workshops data in gh repo (same as workshops above)\n",
    "* Figure (#): Total attendance by year.  Stacked bar chart. Same captioning as figures above, table in appendix.\n",
    "* Narrative about class size - trend towards smaller class sizes, fewer outliers.  Trend is user driven, not enforced by Carpentries, shows focus from hosts and instructors.  Long narrative. Refer to 5 number summary in appendix.\n",
    "* Figure (#): Class size by year.  Box plot.  Same captioning, also include how to read box plot. Note 2018 is acutal, not projected data.\n",
    "* \n",
    "\n",
    "\n",
    "\n"
   ]
  },
  {
   "cell_type": "markdown",
   "metadata": {},
   "source": [
    "## Part 2: Instructor Training\n",
    "\n",
    "\n",
    "### Overview \n",
    "* Narrative about instructor training \n",
    "    * General information about Carpentries instructor training\n",
    "    * Description of type of data collected\n",
    "\n",
    "* Geographic reach\n",
    "    * Note countries we've reached through training, note Puerto Rico is separated out to highlight our reach there\n",
    "    * Format/content will follow the geographic reach of workshops\n",
    "    * Countries where we actually have trainers\n",
    "    * Note why 2018 is not included  - they are not yet expected to be badged\n",
    "\n",
    "* Completion Rates\n",
    "    * Figure (#): Box plot of completion rates\n",
    "    * \n",
    "\n",
    "\n"
   ]
  },
  {
   "cell_type": "markdown",
   "metadata": {},
   "source": [
    "## Part 3: Trainers"
   ]
  },
  {
   "cell_type": "markdown",
   "metadata": {},
   "source": [
    "## Appendix\n",
    "\n",
    "* Table 1: Workshops by Carpentry by Year\n",
    "* Table 2: All countries that have hosted a workshop\n",
    "* Table 3: Countries hosting 10 or more workshops\n",
    "* Table 4: List of countries that held workshop each year\n",
    "* Table 5: Total attendance by year by Carpentry\n",
    "* Table 6: 5 num summary for class size ( minimum, first quartile, median, third quartile, and maximum)\n",
    "* Table 7: Full table of all instructor training events"
   ]
  },
  {
   "cell_type": "code",
   "execution_count": null,
   "metadata": {},
   "outputs": [],
   "source": []
  }
 ],
 "metadata": {
  "kernelspec": {
   "display_name": "Python 3",
   "language": "python",
   "name": "python3"
  },
  "language_info": {
   "codemirror_mode": {
    "name": "ipython",
    "version": 3
   },
   "file_extension": ".py",
   "mimetype": "text/x-python",
   "name": "python",
   "nbconvert_exporter": "python",
   "pygments_lexer": "ipython3",
   "version": "3.5.2"
  }
 },
 "nbformat": 4,
 "nbformat_minor": 2
}
