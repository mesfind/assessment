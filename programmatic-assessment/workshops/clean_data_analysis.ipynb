{
 "cells": [
  {
   "cell_type": "markdown",
   "metadata": {},
   "source": [
    "# The Carpentries\n",
    "## Programmatic assessment\n",
    "\n",
    "This Jupyter notebook explores data related to the workshops we run and the instructors who teach."
   ]
  },
  {
   "cell_type": "code",
   "execution_count": null,
   "metadata": {},
   "outputs": [],
   "source": [
    "## This code toggles all code cells displaying on or off, so we can see output and markdown cells only.\n",
    "## All code cells display can be toggled on/off.\n",
    "\n",
    "from IPython.display import HTML\n",
    "\n",
    "HTML('''<script>\n",
    "code_show=true; \n",
    "function code_toggle() {\n",
    " if (code_show){\n",
    " $('div.input').hide();\n",
    " } else {\n",
    " $('div.input').show();\n",
    " }\n",
    " code_show = !code_show\n",
    "} \n",
    "$( document ).ready(code_toggle);\n",
    "</script>\n",
    "The raw code for this IPython notebook is hidden for easier reading.\n",
    "To toggle on/off the raw code, click <a href=\"javascript:code_toggle()\">here</a>.''')"
   ]
  },
  {
   "cell_type": "code",
   "execution_count": null,
   "metadata": {},
   "outputs": [],
   "source": [
    "import matplotlib.pyplot as plt\n",
    "import numpy as np\n",
    "import pandas as pd\n",
    "\n",
    "%matplotlib inline "
   ]
  },
  {
   "cell_type": "markdown",
   "metadata": {},
   "source": [
    "## Preview the data set for all workshops\n",
    "Here is a preview of all workshops the Carpentries has ever run.  The `administrator_name` column contains inconsistent data - do not use.\n"
   ]
  },
  {
   "cell_type": "code",
   "execution_count": null,
   "metadata": {
    "scrolled": true
   },
   "outputs": [],
   "source": [
    "workshops = pd.read_csv(\"workshops.csv\")\n",
    "workshops"
   ]
  },
  {
   "cell_type": "code",
   "execution_count": null,
   "metadata": {},
   "outputs": [],
   "source": [
    "# Clean up the tag names\n",
    "\n",
    "workshops.loc[workshops['tag_name'].str.contains(\"SWC\"), \"tag\"] = \"SWC\"\n",
    "workshops.loc[workshops['tag_name'].str.contains(\"DC\"), \"tag\"] = \"DC\"\n",
    "workshops.loc[workshops['tag_name'].str.contains(\"LC\"), \"tag\"] = \"LC\"\n",
    "workshops.loc[workshops['tag_name'].str.contains(\"TTT\"), \"tag\"] = \"TTT\"\n",
    "\n",
    "workshops"
   ]
  },
  {
   "cell_type": "markdown",
   "metadata": {},
   "source": [
    "## Part 1: Workshop data by country\n",
    "\n",
    "### Workshops missing country data. "
   ]
  },
  {
   "cell_type": "code",
   "execution_count": null,
   "metadata": {
    "scrolled": true
   },
   "outputs": [],
   "source": [
    "# Workshops missing country data\n",
    "\n",
    "workshops[pd.isnull(workshops['country'])]"
   ]
  },
  {
   "cell_type": "markdown",
   "metadata": {},
   "source": [
    "### All countries we have ever held workshops in, with a lifetime count of workshops"
   ]
  },
  {
   "cell_type": "code",
   "execution_count": null,
   "metadata": {
    "scrolled": true
   },
   "outputs": [],
   "source": [
    "# All countries we have ever done work in\n",
    "countries = workshops['slug'].groupby([workshops['country']])\n",
    "# countries is a SeriesGroupBy object\n",
    "lifetime_countries = countries.count()\n",
    "lifetime_countries = lifetime_countries.to_frame().reset_index()\n",
    "lifetime_countries"
   ]
  },
  {
   "cell_type": "markdown",
   "metadata": {},
   "source": [
    "### Filter the whole dataframe to include lifetime non-TTT workshops through 2018 Q1 only."
   ]
  },
  {
   "cell_type": "code",
   "execution_count": null,
   "metadata": {
    "scrolled": true
   },
   "outputs": [],
   "source": [
    "# Limit to non TTT workshops\n",
    "\n",
    "workshops_nonTTT = workshops[workshops['tag'] != \"TTT\"]\n",
    "\n",
    "\n",
    "# Limit df to workshops through 2018Q1 only\n",
    "\n",
    "# Get all workshops through 2017\n",
    "workshops_through_2017 = workshops_nonTTT[workshops_nonTTT['year'] <= 2017]\n",
    "\n",
    "# Get all workshops for 2018 Q1\n",
    "workshops_2018Q1 = workshops_nonTTT[(workshops_nonTTT['year'] == 2018) & (workshops_nonTTT['month'] <= 3)]\n",
    "\n",
    "# Combine the above two data frames\n",
    "workshops_through_2018Q1 = pd.concat([workshops_through_2017, workshops_2018Q1])\n",
    "workshops_through_2018Q1 # this will be the df used for the rest of the analysis.\n",
    "\n",
    "# This will be used later\n",
    "workshops_2017Q1 = workshops_nonTTT[(workshops_nonTTT['year'] == 2017) & (workshops_nonTTT['month'] <= 3)]\n",
    "\n",
    "\n",
    "workshops_through_2018Q1"
   ]
  },
  {
   "cell_type": "markdown",
   "metadata": {},
   "source": [
    "### All workshops by year and country through 2018 Q1\n",
    "\n",
    "Will need to use [pycountry](https://pypi.org/project/pycountry/) to translate two character codes into country names."
   ]
  },
  {
   "cell_type": "code",
   "execution_count": null,
   "metadata": {
    "scrolled": true
   },
   "outputs": [],
   "source": [
    "workshops_by_country_year = workshops_through_2018Q1.groupby(['country', 'year'])['slug'].count().unstack()\n",
    "workshops_by_country_year = workshops_by_country_year.fillna(0)\n",
    "workshops_by_country_year.rename(columns={2018: '2018Q1'}, inplace=True)\n",
    "workshops_by_country_year\n",
    "workshops_by_country_year['total'] = workshops_by_country_year.sum(axis=1)\n",
    "workshops_by_country_year"
   ]
  },
  {
   "cell_type": "markdown",
   "metadata": {},
   "source": [
    "### All workshops by country in 2017 (full year)"
   ]
  },
  {
   "cell_type": "code",
   "execution_count": null,
   "metadata": {
    "scrolled": true
   },
   "outputs": [],
   "source": [
    "workshops_by_country_year_2017 = workshops_by_country_year[[2017]]\n",
    "workshops_by_country_year_2017 = workshops_by_country_year_2017[(workshops_by_country_year_2017[2017] != 0)]\n",
    "workshops_by_country_year_2017.plot.bar(title=\"Workshops by country, 2017\")\n",
    "workshops_by_country_year_2017"
   ]
  },
  {
   "cell_type": "markdown",
   "metadata": {},
   "source": [
    "### All workshops by country 2018 Q1"
   ]
  },
  {
   "cell_type": "code",
   "execution_count": null,
   "metadata": {
    "scrolled": true
   },
   "outputs": [],
   "source": [
    "workshops_by_country_year_2018Q1 = workshops_2018Q1.groupby(['country', 'year'])['slug'].count().unstack()\n",
    "workshops_by_country_year_2018Q1.rename(columns={2018:'2018Q1'}, inplace=True)\n",
    "workshops_by_country_year_2017.plot.bar(title=\"Workshops by country, 2017\")\n",
    "workshops_by_country_year_2018Q1.plot.bar(title=\"Workshops by country, 2018 Q1\")\n",
    "workshops_by_country_year_2018Q1\n",
    "\n",
    "\n",
    "\n"
   ]
  },
  {
   "cell_type": "markdown",
   "metadata": {},
   "source": [
    "### All workshops by country 2017 Q1"
   ]
  },
  {
   "cell_type": "code",
   "execution_count": null,
   "metadata": {},
   "outputs": [],
   "source": [
    "\n",
    "# 2017 Q1 workshops by country\n",
    "workshops_by_country_year_2017Q1 = workshops_2017Q1.groupby(['country', 'year'])['slug'].count().unstack()\n",
    "workshops_by_country_year_2017Q1.rename(columns={2017:'2017Q1'}, inplace=True)\n",
    "\n",
    "# 2018 Q1 workshops by country\n",
    "workshops_by_country_year_2018Q1 = workshops_2018Q1.groupby(['country', 'year'])['slug'].count().unstack()\n",
    "workshops_by_country_year_2018Q1.rename(columns={2018:'2018Q1'}, inplace=True)\n",
    "\n",
    "# Concatenated table, 2017 Q1 and 2018 Q1 workshops by country\n",
    "workshops_by_country_year_1718Q1 = pd.concat([workshops_by_country_year_2017Q1, workshops_by_country_year_2018Q1], axis=1)\n",
    "\n",
    "workshops_by_country_year_2017.plot.bar(title=\"Workshops by country, 2017\")\n",
    "workshops_by_country_year_2018Q1.plot.bar(title=\"Workshops by country, 2018 Q1\")\n",
    "workshops_by_country_year_2017Q1.plot.bar(title=\"Workshops by country, 2017 Q1\")\n"
   ]
  },
  {
   "cell_type": "markdown",
   "metadata": {},
   "source": [
    "### Side by side view of 2017 Q1 and 2018 Q1 workshops"
   ]
  },
  {
   "cell_type": "code",
   "execution_count": null,
   "metadata": {},
   "outputs": [],
   "source": [
    "# plt.rcParams[\"patch.force_edgecolor\"] = False\n",
    "\n",
    "fig = plt.figure(figsize=(12, 6)) # Create matplotlib figure\n",
    "\n",
    "ax = fig.add_subplot(111) # Create matplotlib axes\n",
    "width = 0.25\n",
    "\n",
    "workshops_by_country_year_1718Q1['2017Q1'].plot(kind='bar', color='lightgreen', ax=ax, width=width, position=1, edgecolor = 'green',  linewidth = 2)\n",
    "workshops_by_country_year_1718Q1['2018Q1'].plot(kind='bar', color='lightblue', ax=ax, width=width, position=0, edgecolor = 'blue',  linewidth = 2)\n",
    "\n",
    "ax.legend([\"2017 Q1\", \"2018 Q1\"]);\n",
    "\n",
    "# ax.set_xticklabels(workshops_by_country_2018_Q1_all_countries.country)\n",
    "ax.grid(True)\n",
    "\n",
    "plt.title(\"Count workshops by country, Q1 2017 & Q1 2018\")\n",
    "\n",
    "plt.show()"
   ]
  },
  {
   "cell_type": "code",
   "execution_count": null,
   "metadata": {},
   "outputs": [],
   "source": [
    "# Would like to include maps for the above data\n",
    "# See http://geopandas.org/mapping.html"
   ]
  },
  {
   "cell_type": "markdown",
   "metadata": {},
   "source": [
    "---\n",
    "---\n",
    "---"
   ]
  },
  {
   "cell_type": "markdown",
   "metadata": {},
   "source": [
    "## Part 2: Workshop attendance data\n"
   ]
  },
  {
   "cell_type": "markdown",
   "metadata": {},
   "source": [
    "## Analyzing attendance data\n"
   ]
  },
  {
   "cell_type": "markdown",
   "metadata": {},
   "source": [
    "### Workshops missing attendance (through 2018 Q1)\n",
    "\n",
    "These are sites that did not share attendance data with Carpentries staff."
   ]
  },
  {
   "cell_type": "code",
   "execution_count": null,
   "metadata": {
    "scrolled": true
   },
   "outputs": [],
   "source": [
    "null_attendance = workshops_through_2018Q1[pd.isnull(workshops_through_2018Q1['attendance'])]\n",
    "# Attendance == 0 means it was not recorded, not that no one attended\n",
    "zero_attendance = workshops_through_2018Q1[(workshops_through_2018Q1['attendance'] == 0)]\n",
    "missing_attendance = pd.concat([null_attendance, zero_attendance])\n",
    "missing_attendance"
   ]
  },
  {
   "cell_type": "markdown",
   "metadata": {},
   "source": [
    "### Workshops with attendance data through Q1 2018"
   ]
  },
  {
   "cell_type": "code",
   "execution_count": null,
   "metadata": {},
   "outputs": [],
   "source": [
    "has_attendance_through_2018Q1 = workshops_through_2018Q1[np.isfinite(workshops_through_2018Q1['attendance'])]\n",
    "has_attendance_through_2018Q1 = has_attendance_through_2018Q1[has_attendance_through_2018Q1['attendance'] > 0]\n",
    "has_attendance_through_2018Q1"
   ]
  },
  {
   "cell_type": "code",
   "execution_count": null,
   "metadata": {},
   "outputs": [],
   "source": [
    "print(\"FOR WORKSHOPS THROUGH Q1 2018:\")\n",
    "print(\"* COUNT ALL WORKSHOPS:\", len(workshops_through_2018Q1))\n",
    "print(\"* COUNT WORKSHOPS MISSING ATTENDANCE:\", len(missing_attendance))\n",
    "print(\"* COUNT WORKSHOPS WITH ATTENDANCE: \", len(has_attendance_through_2018Q1))\n",
    "print(\"* APPROX \", int(round(len(missing_attendance)/len(workshops_through_2018Q1)*100)), \"% OF WORKSHOPS ARE MISSING ATTENDANCE\")"
   ]
  },
  {
   "cell_type": "markdown",
   "metadata": {},
   "source": [
    "### Sum attendance by year\n",
    "\n",
    "The charts below exclude workshops with missing attendance."
   ]
  },
  {
   "cell_type": "code",
   "execution_count": null,
   "metadata": {
    "scrolled": true
   },
   "outputs": [],
   "source": [
    "workshops_by_attendance = has_attendance_through_2018Q1.groupby(['tag', 'year'])['attendance'].sum().unstack()\n",
    "workshops_by_attendance"
   ]
  },
  {
   "cell_type": "code",
   "execution_count": null,
   "metadata": {},
   "outputs": [],
   "source": [
    "workshops_by_attendance.plot.bar(title=\"Total Carpentries learners by year\")"
   ]
  },
  {
   "cell_type": "markdown",
   "metadata": {},
   "source": [
    "### Binned attendance total through 2018 Q1"
   ]
  },
  {
   "cell_type": "code",
   "execution_count": null,
   "metadata": {},
   "outputs": [],
   "source": [
    "bins = pd.cut(has_attendance_through_2018Q1['attendance'], [1, 10, 20, 30, 40, 50, 60, 70, 80, 90, 100, np.inf])\n",
    "has_attendance_through_2018Q1.groupby(bins)['attendance'].agg(['count'])"
   ]
  },
  {
   "cell_type": "markdown",
   "metadata": {},
   "source": [
    "### Binned attendance counts by year.\n",
    "\n",
    "Shows how many workshops had 1-10 learners, 11-20 learners, etc. Right side is inclusive, left side is not.\n",
    "How do we show this as a proportion of total, not just as absolute count?\n",
    "How do we visualize this?  This will help us see if workshops are growing or shrinking in size."
   ]
  },
  {
   "cell_type": "code",
   "execution_count": null,
   "metadata": {
    "scrolled": false
   },
   "outputs": [],
   "source": [
    "# See https://stackoverflow.com/questions/34317149/pandas-groupby-with-bin-counts\n",
    "# >>> groups = df.groupby(['username', pd.cut(df.views, bins)])\n",
    "# >>> groups.size().unstack()\n",
    "\n",
    "bins = pd.cut(has_attendance_through_2018Q1['attendance'], [1, 10, 20, 30, 40, 50, 60, 70, 80, 90, 100, np.inf])\n",
    "binned_attendance_by_year = has_attendance_through_2018Q1.groupby([ bins, 'year'])['attendance'].agg(['count'])\n",
    "\n",
    "binned_attendance_by_year =  binned_attendance_by_year.unstack()\n",
    "binned_attendance_by_year['total'] = binned_attendance_by_year.sum(axis=1)\n",
    "\n",
    "binned_attendance_by_year\n",
    "\n",
    "# How do we rename 2018 to 2018Q1?  It's not a single index value."
   ]
  },
  {
   "cell_type": "markdown",
   "metadata": {},
   "source": [
    "---\n",
    "---\n",
    "---"
   ]
  },
  {
   "cell_type": "markdown",
   "metadata": {},
   "source": [
    "## Part 3: Workshops"
   ]
  },
  {
   "cell_type": "markdown",
   "metadata": {},
   "source": [
    "## Workshops by year\n",
    "\n",
    "This table and chart below show the total number of workshops each year through 2018 Q1. Instructor training events are not included here."
   ]
  },
  {
   "cell_type": "code",
   "execution_count": null,
   "metadata": {
    "scrolled": false
   },
   "outputs": [],
   "source": [
    "workshops_by_carpentry_year = workshops_through_2018Q1.groupby(['year', 'tag'])['slug'].count().unstack()\n",
    "\n",
    "workshops_by_carpentry_year['total'] = workshops_by_carpentry_year.sum(axis=1)\n",
    "\n",
    "workshops_by_carpentry_year\n",
    "\n"
   ]
  },
  {
   "cell_type": "code",
   "execution_count": null,
   "metadata": {},
   "outputs": [],
   "source": [
    "fig = plt.figure(figsize=(12, 6)) # Create matplotlib figure\n",
    "\n",
    "ax = fig.add_subplot(111) # Create matplotlib axes\n",
    "width = .5\n",
    "title = \"Carpentries workshops count by year\"\n",
    "\n",
    "# df.plot(x=\"X\", y=[\"A\", \"B\", \"C\"], kind=\"bar\")\n",
    "workshops_by_carpentry_year.plot(y = [\"DC\", \"LC\", \"SWC\"], kind='bar', ax=ax, width=width, position=1, title=title)\n",
    "\n",
    "ax.grid(True)\n",
    "\n",
    "plt.show()"
   ]
  },
  {
   "cell_type": "markdown",
   "metadata": {},
   "source": [
    "## Part 4: Badge data\n",
    "\n",
    "This section is not working - need to add new query that counts badges & people, not just badges"
   ]
  },
  {
   "cell_type": "markdown",
   "metadata": {},
   "source": [
    "### All badges\n",
    "\n",
    "The table below shows all Instructor, Trainer, or Maintainer badges issued by the Carpentries. One individual may have multiple badges."
   ]
  },
  {
   "cell_type": "code",
   "execution_count": null,
   "metadata": {},
   "outputs": [],
   "source": [
    "all_badges = pd.read_csv(\"badges_by_year_agg.csv\")\n",
    "all_badges"
   ]
  },
  {
   "cell_type": "markdown",
   "metadata": {},
   "source": [
    "### Badges by training event\n",
    "\n",
    "The table below lists all instructor training events run by the Carpentries, with the number attended and the number getting badged, as well as this as a percentage."
   ]
  },
  {
   "cell_type": "code",
   "execution_count": null,
   "metadata": {
    "scrolled": true
   },
   "outputs": [],
   "source": [
    "badges_by_training_event = pd.read_csv(\"badges_by_training_event.csv\")\n",
    "\n",
    "# Get all trainings through 2017\n",
    "trainings_through_2017 = badges_by_training_event[badges_by_training_event['year'] <= 2017]\n",
    "\n",
    "# Get all trainings for 2018 Q1\n",
    "trainings_2018Q1 = badges_by_training_event[(badges_by_training_event['year'] == 2018) & (badges_by_training_event['month'] <= 3)]\n",
    "\n",
    "# Combine the above two data frames\n",
    "trainings_through_2018Q1 = pd.concat([trainings_through_2017, trainings_2018Q1])\n",
    "\n",
    "trainings_through_2018Q1['pct_completion'] = trainings_through_2018Q1['count_badged'] / trainings_through_2018Q1['attendance'] * 100\n",
    "trainings_through_2018Q1 = trainings_through_2018Q1.round({'pct_completion':1})\n",
    "trainings_through_2018Q1\n"
   ]
  },
  {
   "cell_type": "markdown",
   "metadata": {},
   "source": [
    "### Completion rates by training event"
   ]
  },
  {
   "cell_type": "code",
   "execution_count": null,
   "metadata": {},
   "outputs": [],
   "source": [
    "bins = pd.cut(trainings_through_2018Q1['pct_completion'], [0, 25, 50, 75, 99, 100])\n",
    "binned_badges_by_year = trainings_through_2018Q1.groupby([ bins, 'year'])['pct_completion'].agg(['count'])\n",
    "\n",
    "binned_badges_by_year =  binned_badges_by_year.unstack()\n",
    "binned_badges_by_year['total'] = binned_badges_by_year.sum(axis=1)\n",
    "\n",
    "binned_badges_by_year\n",
    "\n",
    "# Need to add total row"
   ]
  },
  {
   "cell_type": "markdown",
   "metadata": {},
   "source": [
    "### Badges by country, 2017\n",
    "\n",
    "This shows what country the badged person is in, not where the training took place.  The year is when the badge was awarded, not when the training took place.  Would like to plot years side by side to show growth in each country. An individual can have multiple badges.   "
   ]
  },
  {
   "cell_type": "code",
   "execution_count": null,
   "metadata": {
    "scrolled": true
   },
   "outputs": [],
   "source": [
    "# Source query here needs work. It is counting badged individuals, not badges issued.\n",
    "\n",
    "badges_by_country_by_year_awarded = pd.read_csv(\"badges_by_country_by_year.csv\")\n",
    "badges_by_country_by_year_awarded = badges_by_country_by_year_awarded.groupby(['country', 'year_awarded'])['count(id)'].sum().unstack()\n",
    "badges_by_country_by_year_awarded = badges_by_country_by_year_awarded.fillna(0)\n",
    "badges_by_country_by_year_awarded.rename(columns={2018: '2018Q1'}, inplace=True)\n",
    "badges_by_country_by_year_awarded\n",
    "badges_by_country_by_year_awarded['total'] = badges_by_country_by_year_awarded.sum(axis=1)\n",
    "badges_by_country_by_year_awarded"
   ]
  },
  {
   "cell_type": "code",
   "execution_count": null,
   "metadata": {},
   "outputs": [],
   "source": [
    "badges2017 = badges_by_country_by_year_awarded[[2017]]\n",
    "badges2017 = badges2017[badges2017[2017] != 0]\n",
    "badges2017"
   ]
  },
  {
   "cell_type": "markdown",
   "metadata": {},
   "source": [
    "### Instructor badges by country, 2018\n",
    "\n",
    "This shows what country the badged person is in, not where the training took place.  The year is when the badge was awarded, not when the training took place.  Would like to plot years side by side to show growth in each country. "
   ]
  },
  {
   "cell_type": "code",
   "execution_count": null,
   "metadata": {},
   "outputs": [],
   "source": [
    "badges_by_country_by_year_awarded2018 = badges_by_country_by_year_awarded[badges_by_country_by_year_awarded['year_awarded'] == 2018]\n",
    "badges_by_country_by_year_awarded2018.plot.bar(x='country', y='count(id)', title=\"Badges by country, 2018\")\n",
    "badges_by_country_by_year_awarded2018"
   ]
  },
  {
   "cell_type": "code",
   "execution_count": null,
   "metadata": {},
   "outputs": [],
   "source": [
    "# Instructor training events\n",
    "# Count number who got badged by event\n",
    "\n",
    "# https://data.softwarecarpentry.org/queries/80/source#table\n",
    "# https://data.softwarecarpentry.org/queries/83/source\n",
    "\n",
    "# Online events - not country specific\n",
    "\n",
    "# Would like to break this out by country as well\n",
    "# Try https://data.softwarecarpentry.org/queries/61"
   ]
  },
  {
   "cell_type": "code",
   "execution_count": null,
   "metadata": {},
   "outputs": [],
   "source": []
  }
 ],
 "metadata": {
  "kernelspec": {
   "display_name": "Python 3",
   "language": "python",
   "name": "python3"
  },
  "language_info": {
   "codemirror_mode": {
    "name": "ipython",
    "version": 3
   },
   "file_extension": ".py",
   "mimetype": "text/x-python",
   "name": "python",
   "nbconvert_exporter": "python",
   "pygments_lexer": "ipython3",
   "version": "3.5.2"
  }
 },
 "nbformat": 4,
 "nbformat_minor": 2
}
